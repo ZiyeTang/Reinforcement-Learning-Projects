{
  "cells": [
    {
      "cell_type": "markdown",
      "metadata": {
        "id": "0ZWsnEMjaMR0"
      },
      "source": [
        "**Welcome to the first programming assignment for CS 443 RL!**"
      ]
    },
    {
      "cell_type": "markdown",
      "metadata": {
        "id": "WfPe-_9iawIJ"
      },
      "source": [
        "This assignment will get you familiar with the OpenAI gym environment and estimation via sampling trajectories.\n",
        "\n",
        "**For submission: Please convert the iPython notebook (containing both outputs and your code) into pdf, and append the pdf to that of your written work.**"
      ]
    },
    {
      "cell_type": "code",
      "execution_count": 1,
      "metadata": {
        "colab": {
          "base_uri": "https://localhost:8080/"
        },
        "id": "VEvS3FEgWxc6",
        "outputId": "938f66de-8aff-429e-950e-f20b975f764d"
      },
      "outputs": [
        {
          "output_type": "stream",
          "name": "stdout",
          "text": [
            "0.25.2\n"
          ]
        }
      ],
      "source": [
        "import gym\n",
        "print(gym.__version__) # should be 0.25.2"
      ]
    },
    {
      "cell_type": "markdown",
      "metadata": {
        "id": "UMgTMDy6OS2e"
      },
      "source": [
        "We will be playing on the Cartpole environment. As the title suggests, the task in this environment is to balance a pole on top of a cart. The official description of the environment from the Gym website (https://www.gymlibrary.dev/) is:\n",
        "\n",
        "> This environment corresponds to the version of the cart-pole problem described by Barto, Sutton, and Anderson in \"Neuronlike Adaptive Elements That Can Solve Difficult Learning Control Problem\". A pole is attached by an un-actuated joint to a cart, which moves along a frictionless track. The pendulum is placed upright on the cart and the goal is to balance the pole by applying forces in the left and right direction on the cart.\n",
        "\n",
        "The environment is loaded as follows:"
      ]
    },
    {
      "cell_type": "code",
      "execution_count": 2,
      "metadata": {
        "colab": {
          "base_uri": "https://localhost:8080/"
        },
        "id": "0E9zqEYpOd6b",
        "outputId": "fc84906e-06f1-4f5a-cbb7-e1aa2415db6f"
      },
      "outputs": [
        {
          "output_type": "stream",
          "name": "stdout",
          "text": [
            "Discrete(2)\n",
            "Box([-4.8000002e+00 -3.4028235e+38 -4.1887903e-01 -3.4028235e+38], [4.8000002e+00 3.4028235e+38 4.1887903e-01 3.4028235e+38], (4,), float32)\n"
          ]
        },
        {
          "output_type": "stream",
          "name": "stderr",
          "text": [
            "/usr/local/lib/python3.10/dist-packages/gym/core.py:317: DeprecationWarning: \u001b[33mWARN: Initializing wrapper in old step API which returns one bool instead of two. It is recommended to set `new_step_api=True` to use new step API. This will be the default behaviour in future.\u001b[0m\n",
            "  deprecation(\n",
            "/usr/local/lib/python3.10/dist-packages/gym/wrappers/step_api_compatibility.py:39: DeprecationWarning: \u001b[33mWARN: Initializing environment in old step API which returns one bool instead of two. It is recommended to set `new_step_api=True` to use new step API. This will be the default behaviour in future.\u001b[0m\n",
            "  deprecation(\n"
          ]
        }
      ],
      "source": [
        "env = gym.make('CartPole-v1') # ignore the warning\n",
        "env.reset() # must reset the environment before interacting with it\n",
        "print (env.action_space) # show the action space, which has 2 actions\n",
        "print (env.observation_space) # show the state (observation) space, which is a\n",
        "                              # 4-dimensional vector with components of\n",
        "                              # [position, velocity,\n",
        "                              #  pole angle, pole velocity at tip]"
      ]
    },
    {
      "cell_type": "markdown",
      "metadata": {
        "id": "_p-aroLbSNHc"
      },
      "source": [
        "More information can be found on the following page: https://www.gymlibrary.dev/environments/classic_control/cart_pole/\n",
        "\n",
        "Here is the policy that you will be using (which just acts randomly with a uniform distribution)."
      ]
    },
    {
      "cell_type": "code",
      "execution_count": 3,
      "metadata": {
        "id": "_Tj6_VrSSW_0"
      },
      "outputs": [],
      "source": [
        "def policy_unif(s):\n",
        "  a = env.action_space.sample()\n",
        "  return a"
      ]
    },
    {
      "cell_type": "markdown",
      "metadata": {
        "id": "9gGjIQIkWKEw"
      },
      "source": [
        " You can interact with the environment with the `env.step()` function, as follows:"
      ]
    },
    {
      "cell_type": "code",
      "execution_count": null,
      "metadata": {
        "colab": {
          "base_uri": "https://localhost:8080/"
        },
        "id": "GFN1pJUaWOqm",
        "outputId": "d0511aba-00a1-4df7-d70c-44e81c8a33e1"
      },
      "outputs": [
        {
          "name": "stdout",
          "output_type": "stream",
          "text": [
            "[-0.04271154 -0.18272951 -0.00855926  0.31499472]\n",
            "1.0\n",
            "False\n",
            "{}\n"
          ]
        }
      ],
      "source": [
        "observation, reward, done, info = env.step(env.action_space.sample())\n",
        "print(observation)  # the state that you transition to after taking the action\n",
        "print(reward)       # immediate reward\n",
        "print(done)         # a boolean flag of whether the episode has terminated\n",
        "print(info)         # not useful for this assignment"
      ]
    },
    {
      "cell_type": "markdown",
      "metadata": {
        "id": "eg5RqiBMQKKw"
      },
      "source": [
        "**Q1**: Write a method called `collect_trajectory(policy)` which collects one trajectory for an episode in the Cartpole environment. Your method should take as input the policy (`policy`) and output a list of the form $(s_0, a_0, r_0, s_1, a_1, r_1, \\dots, s_T, a_T, r_T)$, where $T$ is the length of the episode."
      ]
    },
    {
      "cell_type": "code",
      "execution_count": 9,
      "metadata": {
        "id": "Ob_sqnGGQlJC"
      },
      "outputs": [],
      "source": [
        "# generate a trajectory in the environment\n",
        "# use env.step to roll out a trajectory until the episode terminates\n",
        "# output a list of the form [s0, a0, r0, s1, a1, ..., sT, aT, rT]\n",
        "# (s_{T+1} is the terminal state)\n",
        "def collect_trajectory(policy):\n",
        "    s0 = env.reset() #reset the environment\n",
        "    # YOUR CODE HERE\n",
        "    res = []\n",
        "\n",
        "    s_i = s0\n",
        "    a_i = policy(s_i)\n",
        "    s_next, r_i, done, _ = env.step(a_i)\n",
        "    res += [s_i, a_i, r_i]\n",
        "    while not done:\n",
        "        s_i = s_next\n",
        "        a_i = policy(s_i)\n",
        "        s_next, r_i, done, _ = env.step(a_i)\n",
        "        res += [s_i, a_i, r_i]\n",
        "\n",
        "    return res"
      ]
    },
    {
      "cell_type": "markdown",
      "metadata": {
        "id": "wwwP8NzVRYL6"
      },
      "source": [
        "**Q2**: Write a method called `compute_return(traj, gamma)`, which takes as input one trajectory (`traj`) of the form given by `collect_trajectory` in Q1 and a discount factor (`gamma`), and calculates the random return of the trajectory, i.e., $r_0 + \\gamma r_1 + \\gamma^2 r_2 + \\dots + \\gamma^T r_T$."
      ]
    },
    {
      "cell_type": "code",
      "execution_count": 16,
      "metadata": {
        "id": "3DBJBZhqRhwa"
      },
      "outputs": [],
      "source": [
        "def compute_return(traj, gamma):\n",
        "    res = 0\n",
        "    for i in range(2, len(traj), 3):\n",
        "        res += traj[i] * gamma**(i//3)\n",
        "    return res"
      ]
    },
    {
      "cell_type": "markdown",
      "metadata": {
        "id": "Jw1Yvbw05uPP"
      },
      "source": [
        "**Q3**: Collect $150$ trajectories starting from the initial states given by `env.reset()` and compute the random return of each trajectory, using the given policy and $\\gamma = 0.99$.\n",
        "\n",
        "1.   Plot a histogram of these returns.\n",
        "2.   Estimate the mean of these returns, and give your result in the form of $X \\pm Y$, where $X$ is the estimated mean and $Y$ is twice the standard error of your mean estimate, which corresponds to a $95\\%$ confidence interval.\n",
        "\n",
        "Remark: The mean is also an estimate of the value function of $\\pi$ for the initial state, often referred to as a \"Monte-Carlo\" estimation."
      ]
    },
    {
      "cell_type": "code",
      "execution_count": 29,
      "metadata": {
        "id": "sYNjz6fS9Vaj",
        "colab": {
          "base_uri": "https://localhost:8080/",
          "height": 447
        },
        "outputId": "e943eab0-d247-4c4f-f389-652601046653"
      },
      "outputs": [
        {
          "output_type": "stream",
          "name": "stdout",
          "text": [
            "19.181126024578354 ± 1.396668462909321\n"
          ]
        },
        {
          "output_type": "display_data",
          "data": {
            "text/plain": [
              "<Figure size 640x480 with 1 Axes>"
            ],
            "image/png": "[encoded data removed]"
          },
          "metadata": {}
        }
      ],
      "source": [
        "# useful libraries\n",
        "import matplotlib.pyplot as plt\n",
        "import numpy as np\n",
        "\n",
        "# use plt.hist to create histogram plot\n",
        "# YOUR CODE HERE\n",
        "trajs = []\n",
        "rets = []\n",
        "for i in range(0, 150):\n",
        "    tr = collect_trajectory(policy_unif)\n",
        "    ret = compute_return(tr, 0.99)\n",
        "    trajs.append(tr)\n",
        "    rets.append(ret)\n",
        "\n",
        "mean = sum(rets) / len(rets)\n",
        "std = (sum([((x - mean) ** 2) for x in rets]) / len(rets))**0.5\n",
        "stderr = std/(len(rets))**0.5\n",
        "Y = 2*stderr\n",
        "plt.hist(rets)\n",
        "print(mean,\"±\",Y)"
      ]
    },
    {
      "cell_type": "markdown",
      "metadata": {
        "id": "FBFD-MBhemrb"
      },
      "source": [
        "**Q4 (Optional)**: A linear policy has parameters $\\beta_1 \\in \\mathbb{R}^4$ and $\\beta_0 \\in \\mathbb{R}$. It computes $\\beta_1^\\top x - \\beta_0$, chooses action $+1$ if $\\beta_1^\\top x - \\beta_0 \\geq 0$, and chooses action $0$ otherwise.\n",
        "\n",
        "Write a random search learner. Randomly generate $10$ linear policies, evaluate them by sampling trajectories, and output the policy with the highest return.\n",
        "\n"
      ]
    },
    {
      "cell_type": "code",
      "execution_count": null,
      "metadata": {
        "id": "sDCNWfLncTdy"
      },
      "outputs": [],
      "source": []
    },
    {
      "cell_type": "markdown",
      "metadata": {
        "id": "ZoYJ55zCaPVA"
      },
      "source": [
        "**Instructions on converting iPython notebook to pdf**\n",
        "\n",
        "Please do not directly print the iPython notebook to pdf because it may have some issue if your code or text are too long."
      ]
    },
    {
      "cell_type": "markdown",
      "metadata": {
        "id": "ONx9vjT8addX"
      },
      "source": [
        "Option 1: if you run the code locally with Jupyter Notebook or Jupyter Lab, there is an option to save to pdf from the menu."
      ]
    },
    {
      "cell_type": "markdown",
      "metadata": {
        "id": "HOlgK0wXaVil"
      },
      "source": [
        "Option 2: if you run the code on Google colab. (You can delete the block below if you run code locally.)"
      ]
    },
    {
      "cell_type": "code",
      "execution_count": 30,
      "metadata": {
        "id": "Qb8YPaYIW8k1"
      },
      "outputs": [],
      "source": [
        "%%capture\n",
        "# Here we use a script to generate pdf and save it to google drive.\n",
        "\n",
        "# After executing this cell, you will be asked to link to your GoogleDrive account.\n",
        "# Then, the pdf will be generated and saved to your GoogleDrive account and you need to go there to download;\n",
        "\n",
        "from google.colab import drive\n",
        "drive.mount('/content/drive')\n",
        "# install tex; first run may take several minutes\n",
        "! apt-get install texlive-xetex\n",
        "# file path and save location below are default; please change if they do not match yours\n",
        "! jupyter nbconvert --output-dir='/content/drive/MyDrive/' '/content/drive/MyDrive/Colab Notebooks/CS443RL_Assignment1.ipynb' --to pdf"
      ]
    },
    {
      "cell_type": "markdown",
      "metadata": {
        "id": "ZkgV3wFWcI2y"
      },
      "source": [
        "Also feel free to use other methods as long as the converted file visually looks good."
      ]
    }
  ],
  "metadata": {
    "colab": {
      "provenance": []
    },
    "kernelspec": {
      "display_name": "Python 3 (ipykernel)",
      "language": "python",
      "name": "python3"
    },
    "language_info": {
      "codemirror_mode": {
        "name": "ipython",
        "version": 3
      },
      "file_extension": ".py",
      "mimetype": "text/x-python",
      "name": "python",
      "nbconvert_exporter": "python",
      "pygments_lexer": "ipython3",
      "version": "3.8.16"
    }
  },
  "nbformat": 4,
  "nbformat_minor": 0
}