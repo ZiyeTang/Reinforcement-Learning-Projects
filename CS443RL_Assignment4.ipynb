{
  "cells": [
    {
      "cell_type": "markdown",
      "metadata": {
        "id": "0ZWsnEMjaMR0"
      },
      "source": [
        "**Welcome to the fourth programming assignment for CS 498 RL!**"
      ]
    },
    {
      "cell_type": "markdown",
      "metadata": {
        "id": "WfPe-_9iawIJ"
      },
      "source": [
        "This assignment will get you familiar with value function approximation and actor-critic algorithm. You need to write your code from scratch and explore the good hyperparameters. The question is inspired/borrowed from Philip Thomas's course.\n",
        "\n",
        "You only need to report your result for one trial/run. There is some randomness in the environment, so you don't need to expect the result of every trial can meet the expectation. But make sure that you can get similar (high return) results with the same hyperparameters in general. For grading, we will not only look at your figure, but may also run your code and see whether we can reproduce similar (high return) results. That said, we may later request your notebook file if needed, though you don't need to submit them now. You will receive partial credit if your result is mostly due to randomness. We may also use our hyperparameters to test your code. If your result does not meet the expecation because of the hyperparameters but your implementation is correct, you will receive partial credit.\n",
        "\n",
        "Make sure your submitted version contain the final results (figures). If not, you will only get partial credit."
      ]
    },
    {
      "cell_type": "code",
      "execution_count": 1,
      "metadata": {
        "id": "VEvS3FEgWxc6"
      },
      "outputs": [],
      "source": [
        "import gym\n",
        "import numpy as np\n",
        "from scipy import stats\n",
        "import matplotlib.pyplot as plt"
      ]
    },
    {
      "cell_type": "markdown",
      "metadata": {
        "id": "UMgTMDy6OS2e"
      },
      "source": [
        "We will be playing on the Cartpole environment. As the title suggests, the task in this environment is to balance a pole on top of a cart. The official description of the environment from the OpenAI Gym website (https://gym.openai.com/) is:\n",
        "\n",
        "> A pole is attached by an un-actuated joint to a cart, which moves along a frictionless track. The system is controlled by applying a force of +1 or -1 to the cart. The pendulum starts upright, and the goal is to prevent it from falling over. A reward of +1 is provided for every timestep that the pole remains upright. The episode ends when the pole is more than 15 degrees from vertical, or the cart moves more than 2.4 units from the center. CartPole-v1 defines \"solving\" as getting average reward of 475.0 over 500 consecutive trials. This environment corresponds to the version of the cart-pole problem described by Barto, Sutton, and Anderson [Barto83].\n",
        "\n",
        "In the environment, the actions are dicrete and indexed as 0, 1. The state space is a 4 dimension continuous space. In all the following, the trajectory is $\\tau=(s_0,a_0,r_0,s_1,a_1,r_1,\\dots,s_T,a_T,r_T)$.\n",
        "\n",
        "More information can be found on the following wiki page: https://gym.openai.com/envs/CartPole-v1/"
      ]
    },
    {
      "cell_type": "markdown",
      "metadata": {
        "id": "JSqe-f856rOn"
      },
      "source": [
        "**Q1: Implement the TD actor-critic algorithm using the Fourier basis as linear approximation component**.\n",
        "\n",
        "Write a method called actor_critic_TD(gamma, alpha_actor, alpha_critic, n_actor, n_critic, num_epi), which implements the TD actor-critic with discount factor $\\gamma$, learning rate $\\alpha_{actor}$, $\\alpha_{critic}$, and runs for num_epi episodes. $n_{actor}$ and $n_{critic}$ are the orders of Fourior basis for the actor and the critic respectively.\n",
        "\n",
        "The critic learns a state-value function $V(s)$ and the update of critic is TD(0): $\\delta_t = r_t + \\gamma  w^\\top \\phi_{critic}(s_{t+1})-w^\\top \\phi_{critic}(s_t)$ and $w_{t+1}=w_t+\\alpha_{critic}\\gamma^t\\delta_t \\phi_{critic}(s_t)$, where $\\phi_{critic}(s_t)$ is the Fourier basis features for critic and $w_t$ is the weights. The initial weights are set to 0. You should use the same learning rate $\\alpha_{critic}$ for all the features and you don't need to sacle it according to the reference.\n",
        "\n",
        "The actor $\\pi_\\theta$ is parameterized as $\\pi_\\theta(a|s)\\propto \\exp(\\theta^\\top \\phi_{actor}(s,a))$ and the update of actor is $\\theta_{t+1}=\\theta_t + \\alpha_{actor} \\gamma^t\\delta_t\\nabla_\\theta \\log \\pi_\\theta(a_t|s_t)$. Here the TD term $\\delta_t$ (defined above) approximates the advantage function $A(s_t,a_t)$.\n",
        "\n",
        "Since the Cartpole environment has the discrete action space and the continuous state space, we ask you to apply linear approximation with Fourier basis (Equation (4) in http://psthomas.com/papers/Konidaris2011a.pdf) on the state space and use tabular represenatation for the action space. Specifically, we construct $\\phi_{actor}(s,a)=\\psi_{actor}(s)$ according to the reference and assume $\\phi_{actor}(s,a)$ to be the same for all actions, i.e. $\\forall a, \\phi_{actor}(s,a)=\\psi_{actor}(s)$. Then, use different weight vectors for different actions. The initial weights are set to 0. You will need to figure out how to compute $\\nabla_\\theta \\log \\pi_\\theta(a_t|s_t)$. You should use the same learning rate $\\alpha_{actor}$ for all the features and you don't need to sacle it according to the reference.\n",
        "\n",
        "Note that the actor and the critic can use different orders of Fourior basis, thus different features. If $s_{t+1}$ is the terminal states, set the value to 0, i.e. $w^\\top \\phi_{critic}(s_{t+1})=0$. In implementation, you may just replace $w^\\top \\phi_{critic}(s_{t+1})$ with 0.\n",
        "\n",
        "For simplicity, we provide you with a function actor_feature which takes Fourior basis order $n_{actor}$ as input and outputs the features and weights for policy $\\pi$. Also, we give you a function critic_feature which takes Fourior basis order $n_{critic}$ as input and outputs the features and weights for V-function.\n",
        "\n",
        "Your function should return a list (with length num_epi), which consists of the smoothed undiscounted return. That's said, first calculate the undiscounted return of the current episode without discount factor $\\gamma$. Then calculate the mean of undiscounted return for last 200 episodes. If there are less than 200 episodes, calculate the mean of all episodes. Notice that you may use $\\gamma<1$ in your algorithm, but you need to calculate the undiscounted return.\n",
        "\n",
        "After tuning the hyperparameters $\\gamma,\\alpha_{actor}, \\alpha_{critic}, n_{actor}$, and $n_{critic}$, run the actor_critic_TD function for 10000 episodes and draw a figure of the smoothed undisounted return obtained from the function. The $x$-axis is the number of episodes (10000 in total) and the $y$-axis is the smoothed undisounted return.\n",
        "\n",
        "You can use any reasonable hyperparameters. But you should expect the smoothed undisounted return can exceed than 150, though it may not increase monotonically.\n",
        "\n",
        "If running 10000 episodes takes too long and your result can exceed 150 for many (e.g. 500) episodes, you may also report your final result with fewer episodes.\n",
        "\n",
        "In theory to the samples to approximate the PG estimator should be under $\\mathbb{E}_{d^{\\pi}}$, i.e., the discounted occupancy, which means that later states in the trajectory will be discounted heavily. But in practice often undiscounted updates are used for the actor while still using discounted returnts for the critic. You may want to explore this for better performance."
      ]
    },
    {
      "cell_type": "code",
      "execution_count": 2,
      "metadata": {
        "id": "jYm8S-B-6sFz",
        "colab": {
          "base_uri": "https://localhost:8080/",
          "height": 625
        },
        "outputId": "57eb32a1-77ef-4767-9b40-696c452c50f2"
      },
      "outputs": [
        {
          "output_type": "stream",
          "name": "stderr",
          "text": [
            "/usr/local/lib/python3.10/dist-packages/ipykernel/ipkernel.py:283: DeprecationWarning: `should_run_async` will not call `transform_cell` automatically in the future. Please pass the result to `transformed_cell` argument and any exception that happen during thetransform in `preprocessing_exc_tuple` in IPython 7.17 and above.\n",
            "  and should_run_async(code)\n",
            "/usr/local/lib/python3.10/dist-packages/gym/core.py:317: DeprecationWarning: \u001b[33mWARN: Initializing wrapper in old step API which returns one bool instead of two. It is recommended to set `new_step_api=True` to use new step API. This will be the default behaviour in future.\u001b[0m\n",
            "  deprecation(\n",
            "/usr/local/lib/python3.10/dist-packages/gym/wrappers/step_api_compatibility.py:39: DeprecationWarning: \u001b[33mWARN: Initializing environment in old step API which returns one bool instead of two. It is recommended to set `new_step_api=True` to use new step API. This will be the default behaviour in future.\u001b[0m\n",
            "  deprecation(\n",
            "  0%|          | 0/2000 [00:00<?, ?it/s]/usr/local/lib/python3.10/dist-packages/gym/utils/passive_env_checker.py:241: DeprecationWarning: `np.bool8` is a deprecated alias for `np.bool_`.  (Deprecated NumPy 1.24)\n",
            "  if not isinstance(terminated, (bool, np.bool8)):\n",
            "100%|██████████| 2000/2000 [06:19<00:00,  5.27it/s]\n"
          ]
        },
        {
          "output_type": "display_data",
          "data": {
            "text/plain": [
              "<Figure size 640x480 with 1 Axes>"
            ],
            "image/png": "[encoded data removed]"
          },
          "metadata": {}
        }
      ],
      "source": [
        "import random\n",
        "from tqdm import tqdm\n",
        "\n",
        "env = gym.make('CartPole-v1')\n",
        "\n",
        "def actor_feature(n_actor):\n",
        "  dim_state = 4\n",
        "  num_action = 2\n",
        "  # Construct features for the actor\n",
        "  c_actor = []\n",
        "  for i in range((n_actor + 1) ** dim_state):\n",
        "    index = i\n",
        "    temp_c = []\n",
        "    for j in range(dim_state):\n",
        "      temp_c.append(index % (n_actor + 1))\n",
        "      index //= n_actor + 1\n",
        "    c_actor.append(temp_c)\n",
        "  c_actor = np.asarray(c_actor)\n",
        "  weight_actor = np.zeros(((n_actor + 1) ** dim_state, num_action))\n",
        "  return c_actor, weight_actor\n",
        "\n",
        "\n",
        "def critic_feature(n_critic):\n",
        "  # Construct features for the critic\n",
        "  dim_state = 4\n",
        "  num_action = 2\n",
        "  c_critic = []\n",
        "  for i in range((n_critic + 1) ** dim_state):\n",
        "    index = i\n",
        "    temp_c = []\n",
        "    for j in range(dim_state):\n",
        "      temp_c.append(index % (n_critic + 1))\n",
        "      index //= n_critic + 1\n",
        "    c_critic.append(temp_c)\n",
        "  c_critic = np.asarray(c_critic)\n",
        "  weight_critic = np.zeros((n_critic + 1) ** dim_state)\n",
        "  return c_critic, weight_critic\n",
        "\n",
        "def actor_critic_TD(gamma, alpha_actor, alpha_critic, n_actor, n_critic, num_epi):\n",
        "  ### Your code here\n",
        "  c_critic, w = critic_feature(n_critic)\n",
        "  c_actor, theta = actor_feature(n_actor)\n",
        "  undiscounted_return = []\n",
        "  smoothed_undiscounted_return = []\n",
        "  for i in tqdm(range(num_epi)):\n",
        "    state = env.reset()\n",
        "    done = False\n",
        "    total_reward = 0\n",
        "    t = 0\n",
        "    while not done:\n",
        "        policy = np.exp(theta.T @ np.cos(np.pi * c_actor @ state))\n",
        "        action = random.choices([0,1], weights = policy, k=1)[0]\n",
        "        next_state, reward, done, _ = env.step(action)\n",
        "        total_reward += reward\n",
        "\n",
        "        next_state_val = 0\n",
        "        if not done:\n",
        "            next_state_val = np.dot(w, np.cos(np.pi * c_critic @ next_state))\n",
        "        delta = reward + gamma * next_state_val - np.dot(w, np.cos(np.pi * c_critic @ state))\n",
        "\n",
        "        w += alpha_critic * gamma**t * delta * np.cos(np.pi * c_critic @ state)\n",
        "\n",
        "        theta[:,action] += alpha_actor * gamma**t * delta * np.cos(np.pi * c_actor @ state)\n",
        "\n",
        "        state = next_state\n",
        "        t+=1\n",
        "\n",
        "    undiscounted_return.append(total_reward)\n",
        "    if i >= 200:\n",
        "        smoothed_undiscounted_return .append(np.mean(undiscounted_return[i - 199:i + 1]))\n",
        "    else:\n",
        "        smoothed_undiscounted_return.append(np.mean(undiscounted_return[:i + 1]))\n",
        "\n",
        "  return smoothed_undiscounted_return\n",
        "\n",
        "# Draw the figure with the smoothed undiscounted return list\n",
        "### Your code here\n",
        "smooth_undiscounted = actor_critic_TD(0.99, 0.0005, 0.0005, 6, 5, 2000)\n",
        "\n",
        "import matplotlib.pyplot as plt\n",
        "plt.plot(smooth_undiscounted)\n",
        "plt.xlabel('Iteration')\n",
        "plt.ylabel('smoothed undiscounted reward')\n",
        "plt.show()"
      ]
    },
    {
      "cell_type": "markdown",
      "metadata": {
        "id": "hwmWy1k8Cc61"
      },
      "source": [
        "**Instructions on converting iPython notebook to pdf**\n",
        "\n",
        "Please do not directly print the iPython notebook to pdf because it may have some issue if your code or text are too long. The following are two recommended ways."
      ]
    },
    {
      "cell_type": "markdown",
      "metadata": {
        "id": "R52ww-60CouR"
      },
      "source": [
        "Option 1: if you run the code on Google colab."
      ]
    },
    {
      "cell_type": "code",
      "execution_count": 6,
      "metadata": {
        "id": "eyfFmqiIg1Ln"
      },
      "outputs": [],
      "source": [
        "%%capture\n",
        "# Here we use a script to generate pdf and save it to google drive.\n",
        "\n",
        "# After executing this cell, you will be asked to link to your GoogleDrive account.\n",
        "# Then, the pdf will be generated and saved to your GoogleDrive account and you need to go there to download;\n",
        "\n",
        "from google.colab import drive\n",
        "drive.mount('/content/drive')\n",
        "# install tex; first run may take several minutes\n",
        "! apt-get install texlive-xetex\n",
        "# file path and save location below are default; please change if they do not match yours\n",
        "! jupyter nbconvert --output-dir='./drive/MyDrive/' './drive/MyDrive/Colab Notebooks/CS443RL_Assignment4.ipynb' --to pdf"
      ]
    },
    {
      "cell_type": "markdown",
      "metadata": {
        "id": "ThLPsWArChp7"
      },
      "source": [
        "Option 2: if you run the code locally with Jupyter Notebook.\n",
        "\n",
        "Check out the instruction on https://pypi.org/project/notebook-as-pdf/. You only need to install the package, and then you can click on \"File -> Download As -> PDF via HTML\"."
      ]
    },
    {
      "cell_type": "markdown",
      "metadata": {
        "id": "PwWqNo7xDJgf"
      },
      "source": [
        "Other options:\n",
        "\n",
        "Some of you might notice that there is a default way \"File -> Download As -> PDF via Latex\". But, you may need to install the pandoc package so that it works.\n",
        "\n",
        "Also feel free to use other methods as long as the converted file visually looks good."
      ]
    }
  ],
  "metadata": {
    "colab": {
      "provenance": []
    },
    "kernelspec": {
      "display_name": "Python 3 (ipykernel)",
      "language": "python",
      "name": "python3"
    },
    "language_info": {
      "codemirror_mode": {
        "name": "ipython",
        "version": 3
      },
      "file_extension": ".py",
      "mimetype": "text/x-python",
      "name": "python",
      "nbconvert_exporter": "python",
      "pygments_lexer": "ipython3",
      "version": "3.9.7"
    }
  },
  "nbformat": 4,
  "nbformat_minor": 0
}